{
 "cells": [
  {
   "cell_type": "code",
   "execution_count": 17,
   "metadata": {},
   "outputs": [],
   "source": [
    "import turicreate as tc"
   ]
  },
  {
   "cell_type": "code",
   "execution_count": 18,
   "metadata": {},
   "outputs": [],
   "source": [
    "style = tc.load_images('/Users/kennycabral/Personal Repo Projects/Artigraph/ML Model Files/stylePictures')\n",
    "content = tc.load_images('/Users/kennycabral/Personal Repo Projects/Artigraph/ML Model Files/contentPictures')"
   ]
  },
  {
   "cell_type": "code",
   "execution_count": 19,
   "metadata": {},
   "outputs": [
    {
     "name": "stdout",
     "output_type": "stream",
     "text": [
      "Using 'image' in style_dataset as feature column and using 'image' in content_dataset as feature column\n",
      "Setting max_iterations to be 40000\n",
      "Downloading https://docs-assets.developer.apple.com/turicreate/models/resnet-16.params\n",
      "Download completed: /var/folders/07/1v7cnmv519dctrt7_dlklczh0000gn/T/model_cache/resnet-16.params\n",
      "Downloading https://docs-assets.developer.apple.com/turicreate/models/vgg16-conv1_1-4_3.params\n",
      "Download completed: /var/folders/07/1v7cnmv519dctrt7_dlklczh0000gn/T/model_cache/vgg16-conv1_1-4_3.params\n",
      "Using CPU to create model\n",
      "Analyzing visual features of the style images\n",
      "+--------------+--------------+--------------+\n",
      "| Iteration    | Loss         | Elapsed Time |\n",
      "+--------------+--------------+--------------+\n",
      "| 1            | 50.507       | 12.7         |\n",
      "| 2            | 47.262       | 40.7         |\n",
      "| 3            | 43.990       | 67.9         |\n",
      "| 4            | 40.940       | 100.2        |\n",
      "| 5            | 42.895       | 133.1        |\n",
      "| 6            | 40.028       | 161.3        |\n",
      "| 7            | 37.197       | 187.9        |\n",
      "| 8            | 34.742       | 215.3        |\n",
      "| 9            | 32.401       | 242.0        |\n",
      "| 10           | 30.364       | 270.6        |\n",
      "| 11           | 28.610       | 299.0        |\n",
      "| 12           | 29.692       | 326.1        |\n",
      "| 13           | 30.425       | 354.7        |\n",
      "| 14           | 30.409       | 381.0        |\n",
      "| 15           | 28.896       | 407.5        |\n",
      "| 16           | 26.989       | 432.6        |\n",
      "| 17           | 25.249       | 458.5        |\n",
      "| 18           | 23.842       | 484.2        |\n",
      "| 19           | 22.825       | 508.8        |\n",
      "| 20           | 21.592       | 536.1        |\n",
      "| 21           | 20.335       | 562.1        |\n",
      "| 22           | 19.177       | 587.8        |\n"
     ]
    },
    {
     "ename": "KeyboardInterrupt",
     "evalue": "",
     "output_type": "error",
     "traceback": [
      "\u001b[0;31m---------------------------------------------------------------------------\u001b[0m",
      "\u001b[0;31mKeyboardInterrupt\u001b[0m                         Traceback (most recent call last)",
      "\u001b[0;32m<ipython-input-19-6c4df7aafdc1>\u001b[0m in \u001b[0;36m<module>\u001b[0;34m()\u001b[0m\n\u001b[0;32m----> 1\u001b[0;31m \u001b[0mmodel\u001b[0m \u001b[0;34m=\u001b[0m \u001b[0mtc\u001b[0m\u001b[0;34m.\u001b[0m\u001b[0mstyle_transfer\u001b[0m\u001b[0;34m.\u001b[0m\u001b[0mcreate\u001b[0m\u001b[0;34m(\u001b[0m\u001b[0mstyle\u001b[0m\u001b[0;34m,\u001b[0m \u001b[0mcontent\u001b[0m\u001b[0;34m)\u001b[0m\u001b[0;34m\u001b[0m\u001b[0m\n\u001b[0m",
      "\u001b[0;32m/Users/kennycabral/anaconda3/envs/turicreate/lib/python2.7/site-packages/turicreate/toolkits/style_transfer/style_transfer.pyc\u001b[0m in \u001b[0;36mcreate\u001b[0;34m(style_dataset, content_dataset, style_feature, content_feature, max_iterations, model, verbose, batch_size, **kwargs)\u001b[0m\n\u001b[1;32m    340\u001b[0m                     \u001b[0mL\u001b[0m\u001b[0;34m.\u001b[0m\u001b[0mbackward\u001b[0m\u001b[0;34m(\u001b[0m\u001b[0;34m)\u001b[0m\u001b[0;34m\u001b[0m\u001b[0m\n\u001b[1;32m    341\u001b[0m \u001b[0;34m\u001b[0m\u001b[0m\n\u001b[0;32m--> 342\u001b[0;31m             \u001b[0mcur_loss\u001b[0m \u001b[0;34m=\u001b[0m \u001b[0m_np\u001b[0m\u001b[0;34m.\u001b[0m\u001b[0mmean\u001b[0m\u001b[0;34m(\u001b[0m\u001b[0;34m[\u001b[0m\u001b[0mL\u001b[0m\u001b[0;34m.\u001b[0m\u001b[0masnumpy\u001b[0m\u001b[0;34m(\u001b[0m\u001b[0;34m)\u001b[0m\u001b[0;34m[\u001b[0m\u001b[0;36m0\u001b[0m\u001b[0;34m]\u001b[0m \u001b[0;32mfor\u001b[0m \u001b[0mL\u001b[0m \u001b[0;32min\u001b[0m \u001b[0mLs\u001b[0m\u001b[0;34m]\u001b[0m\u001b[0;34m)\u001b[0m\u001b[0;34m\u001b[0m\u001b[0m\n\u001b[0m\u001b[1;32m    343\u001b[0m \u001b[0;34m\u001b[0m\u001b[0m\n\u001b[1;32m    344\u001b[0m             \u001b[0;32mif\u001b[0m \u001b[0msmoothed_loss\u001b[0m \u001b[0;32mis\u001b[0m \u001b[0mNone\u001b[0m\u001b[0;34m:\u001b[0m\u001b[0;34m\u001b[0m\u001b[0m\n",
      "\u001b[0;32m/Users/kennycabral/anaconda3/envs/turicreate/lib/python2.7/site-packages/mxnet/ndarray/ndarray.pyc\u001b[0m in \u001b[0;36masnumpy\u001b[0;34m(self)\u001b[0m\n\u001b[1;32m   1791\u001b[0m             \u001b[0mself\u001b[0m\u001b[0;34m.\u001b[0m\u001b[0mhandle\u001b[0m\u001b[0;34m,\u001b[0m\u001b[0;34m\u001b[0m\u001b[0m\n\u001b[1;32m   1792\u001b[0m             \u001b[0mdata\u001b[0m\u001b[0;34m.\u001b[0m\u001b[0mctypes\u001b[0m\u001b[0;34m.\u001b[0m\u001b[0mdata_as\u001b[0m\u001b[0;34m(\u001b[0m\u001b[0mctypes\u001b[0m\u001b[0;34m.\u001b[0m\u001b[0mc_void_p\u001b[0m\u001b[0;34m)\u001b[0m\u001b[0;34m,\u001b[0m\u001b[0;34m\u001b[0m\u001b[0m\n\u001b[0;32m-> 1793\u001b[0;31m             ctypes.c_size_t(data.size)))\n\u001b[0m\u001b[1;32m   1794\u001b[0m         \u001b[0;32mreturn\u001b[0m \u001b[0mdata\u001b[0m\u001b[0;34m\u001b[0m\u001b[0m\n\u001b[1;32m   1795\u001b[0m \u001b[0;34m\u001b[0m\u001b[0m\n",
      "\u001b[0;31mKeyboardInterrupt\u001b[0m: "
     ]
    }
   ],
   "source": [
    "model = tc.style_transfer.create(style, content)"
   ]
  },
  {
   "cell_type": "code",
   "execution_count": null,
   "metadata": {},
   "outputs": [],
   "source": []
  }
 ],
 "metadata": {
  "kernelspec": {
   "display_name": "Python 2",
   "language": "python",
   "name": "python2"
  },
  "language_info": {
   "codemirror_mode": {
    "name": "ipython",
    "version": 2
   },
   "file_extension": ".py",
   "mimetype": "text/x-python",
   "name": "python",
   "nbconvert_exporter": "python",
   "pygments_lexer": "ipython2",
   "version": "2.7.16"
  }
 },
 "nbformat": 4,
 "nbformat_minor": 2
}
